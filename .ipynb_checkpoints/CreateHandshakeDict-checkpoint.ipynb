{
 "cells": [
  {
   "cell_type": "code",
   "execution_count": 17,
   "id": "egyptian-performance",
   "metadata": {},
   "outputs": [],
   "source": [
    "# Lazy attempt at security\n",
    "from datetime import datetime, timedelta\n",
    "import pytz \n",
    "import random\n",
    "import numpy as np\n",
    "import json"
   ]
  },
  {
   "cell_type": "code",
   "execution_count": 2,
   "id": "yellow-receptor",
   "metadata": {},
   "outputs": [
    {
     "name": "stdout",
     "output_type": "stream",
     "text": [
      "JSONs saved.\n"
     ]
    }
   ],
   "source": [
    "c = 'ABCDEFGHIJKLMNOPQRSTUVWXYZ0123456789'\n",
    "\n",
    "# Iterate through every date time in seconds\n",
    "#H = [x for x in range(0, 24)]\n",
    "M = [x for x in range(0, 60)]\n",
    "S = [x for x in range(0, 60, 4)]\n",
    "handshakes_client = {}\n",
    "handshakes_server = {}\n",
    "#for _, h in enumerate(H):\n",
    "    #h = str(h)\n",
    "    #if len(h) == 1:\n",
    "        #h = '0'+h\n",
    "for _, m in enumerate(M):\n",
    "    m = str(m)\n",
    "    if len(m) == 1:\n",
    "        m = '0'+m\n",
    "    for _, s in enumerate(S):\n",
    "        s = str(s)\n",
    "        if len(s) == 1:\n",
    "            s = '0'+s\n",
    "        ix = [x for x in range(36)]\n",
    "        random.seed()\n",
    "        random.shuffle(ix)\n",
    "        sid = ''\n",
    "        for i in range(8):\n",
    "            sid += c[ix[i]]\n",
    "        # Add to handshakes\n",
    "        handshakes_client[m+s] = sid\n",
    "        handshakes_server[sid] = m+s\n",
    "        #handshakes_client[h+m+s] = sid\n",
    "        #handshakes_server[sid] = h+m+s\n",
    "            \n",
    "if len(np.unique(np.array(list(handshakes_client.values())))) == len(handshakes_client):\n",
    "    # Save as a JSON if all handshakes are unique\n",
    "    with open('handshakes_client.json', 'w') as outfile:\n",
    "                json.dump(handshakes_client, outfile)\n",
    "    with open('handshakes_server.json', 'w') as outfile:\n",
    "                json.dump(handshakes_server, outfile)\n",
    "    print('JSONs saved.')\n",
    "else:\n",
    "    print('Damn, the odds of that were absolutely tiny. Run this again and admire your luck.')"
   ]
  },
  {
   "cell_type": "code",
   "execution_count": 8,
   "id": "aquatic-sigma",
   "metadata": {},
   "outputs": [
    {
     "name": "stdout",
     "output_type": "stream",
     "text": [
      "0: 0.000000\n",
      "1: 0.000000\n",
      "2: 0.000000\n",
      "3: 0.000000\n",
      "4: 4.000000\n",
      "5: 4.000000\n",
      "6: 4.000000\n",
      "7: 4.000000\n",
      "8: 8.000000\n",
      "9: 8.000000\n",
      "10: 8.000000\n",
      "11: 8.000000\n",
      "12: 12.000000\n",
      "13: 12.000000\n",
      "14: 12.000000\n",
      "15: 12.000000\n",
      "16: 16.000000\n",
      "17: 16.000000\n",
      "18: 16.000000\n",
      "19: 16.000000\n",
      "20: 20.000000\n",
      "21: 20.000000\n",
      "22: 20.000000\n",
      "23: 20.000000\n",
      "24: 24.000000\n",
      "25: 24.000000\n",
      "26: 24.000000\n",
      "27: 24.000000\n",
      "28: 28.000000\n",
      "29: 28.000000\n",
      "30: 28.000000\n",
      "31: 28.000000\n",
      "32: 32.000000\n",
      "33: 32.000000\n",
      "34: 32.000000\n",
      "35: 32.000000\n",
      "36: 36.000000\n",
      "37: 36.000000\n",
      "38: 36.000000\n",
      "39: 36.000000\n",
      "40: 40.000000\n",
      "41: 40.000000\n",
      "42: 40.000000\n",
      "43: 40.000000\n",
      "44: 44.000000\n",
      "45: 44.000000\n",
      "46: 44.000000\n",
      "47: 44.000000\n",
      "48: 48.000000\n",
      "49: 48.000000\n",
      "50: 48.000000\n",
      "51: 48.000000\n",
      "52: 52.000000\n",
      "53: 52.000000\n",
      "54: 52.000000\n",
      "55: 52.000000\n",
      "56: 56.000000\n",
      "57: 56.000000\n",
      "58: 56.000000\n",
      "59: 56.000000\n"
     ]
    }
   ],
   "source": [
    "for x in range(60):\n",
    "    x_ = np.floor(x/4)*4\n",
    "    print('%d: %f' % (x, x_))"
   ]
  },
  {
   "cell_type": "code",
   "execution_count": 25,
   "id": "polar-newfoundland",
   "metadata": {},
   "outputs": [
    {
     "data": {
      "text/plain": [
       "datetime.datetime(1900, 1, 1, 0, 24, 21)"
      ]
     },
     "execution_count": 25,
     "metadata": {},
     "output_type": "execute_result"
    }
   ],
   "source": [
    "UTC = pytz.utc\n",
    "datetime.strptime(datetime.now(UTC).strftime('%M%S'), '%M%S')"
   ]
  },
  {
   "cell_type": "code",
   "execution_count": 43,
   "id": "silent-dependence",
   "metadata": {},
   "outputs": [
    {
     "name": "stdout",
     "output_type": "stream",
     "text": [
      "1076\n"
     ]
    }
   ],
   "source": [
    "t_server = datetime.strptime(datetime.now(UTC).strftime('%M%S'), '%M%S')\n",
    "t_client = datetime.strptime('1440', '%M%S')\n",
    "x = t_server - t_client\n",
    "print(x.seconds)"
   ]
  },
  {
   "cell_type": "code",
   "execution_count": 47,
   "id": "returning-wrist",
   "metadata": {},
   "outputs": [
    {
     "ename": "TypeError",
     "evalue": "object of type 'int' has no len()",
     "output_type": "error",
     "traceback": [
      "\u001b[1;31m---------------------------------------------------------------------------\u001b[0m",
      "\u001b[1;31mTypeError\u001b[0m                                 Traceback (most recent call last)",
      "\u001b[1;32m<ipython-input-47-f551b5c53b8e>\u001b[0m in \u001b[0;36m<module>\u001b[1;34m\u001b[0m\n\u001b[0;32m      5\u001b[0m         \u001b[0ms\u001b[0m \u001b[1;33m=\u001b[0m \u001b[0mstr\u001b[0m\u001b[1;33m(\u001b[0m\u001b[0ms\u001b[0m\u001b[1;33m)\u001b[0m\u001b[1;33m\u001b[0m\u001b[1;33m\u001b[0m\u001b[0m\n\u001b[0;32m      6\u001b[0m         \u001b[1;32mfor\u001b[0m \u001b[0mx\u001b[0m \u001b[1;32min\u001b[0m \u001b[1;33m[\u001b[0m\u001b[0mm\u001b[0m\u001b[1;33m,\u001b[0m \u001b[0ms\u001b[0m\u001b[1;33m]\u001b[0m\u001b[1;33m:\u001b[0m\u001b[1;33m\u001b[0m\u001b[1;33m\u001b[0m\u001b[0m\n\u001b[1;32m----> 7\u001b[1;33m             \u001b[1;32mif\u001b[0m \u001b[0mlen\u001b[0m\u001b[1;33m(\u001b[0m\u001b[0mx\u001b[0m\u001b[1;33m)\u001b[0m \u001b[1;33m==\u001b[0m \u001b[1;36m1\u001b[0m\u001b[1;33m:\u001b[0m\u001b[1;33m\u001b[0m\u001b[1;33m\u001b[0m\u001b[0m\n\u001b[0m\u001b[0;32m      8\u001b[0m                 \u001b[0mx\u001b[0m \u001b[1;33m=\u001b[0m \u001b[1;34m'0'\u001b[0m \u001b[1;33m+\u001b[0m \u001b[0mx\u001b[0m\u001b[1;33m\u001b[0m\u001b[1;33m\u001b[0m\u001b[0m\n\u001b[0;32m      9\u001b[0m         \u001b[0mprint\u001b[0m\u001b[1;33m(\u001b[0m\u001b[0mm\u001b[0m\u001b[1;33m+\u001b[0m\u001b[0ms\u001b[0m\u001b[1;33m)\u001b[0m\u001b[1;33m\u001b[0m\u001b[1;33m\u001b[0m\u001b[0m\n",
      "\u001b[1;31mTypeError\u001b[0m: object of type 'int' has no len()"
     ]
    }
   ],
   "source": [
    "rounder = 4\n",
    "for m in range(60):\n",
    "    for s_ in range(60):\n",
    "        s = int(np.floor(s_/rounder)*rounder)\n",
    "        s = str(s)\n",
    "        for x in [m, s]:\n",
    "            if len(x) == 1:\n",
    "                x = '0' + x\n",
    "        print(m+s)"
   ]
  }
 ],
 "metadata": {
  "kernelspec": {
   "display_name": "Python 3",
   "language": "python",
   "name": "python3"
  },
  "language_info": {
   "codemirror_mode": {
    "name": "ipython",
    "version": 3
   },
   "file_extension": ".py",
   "mimetype": "text/x-python",
   "name": "python",
   "nbconvert_exporter": "python",
   "pygments_lexer": "ipython3",
   "version": "3.9.1"
  }
 },
 "nbformat": 4,
 "nbformat_minor": 5
}
