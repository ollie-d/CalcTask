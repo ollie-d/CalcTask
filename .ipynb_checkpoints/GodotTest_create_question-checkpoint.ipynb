{
 "cells": [
  {
   "cell_type": "code",
   "execution_count": 2,
   "id": "interior-crack",
   "metadata": {},
   "outputs": [],
   "source": [
    "import random"
   ]
  },
  {
   "cell_type": "code",
   "execution_count": 10,
   "id": "invisible-poison",
   "metadata": {},
   "outputs": [],
   "source": [
    "def generate_number(num_dig):\n",
    "    # Restrict final digit from being 0, 1, 2 or 5\n",
    "    choices_f = [3, 4, 6, 7, 8, 9]\n",
    "    choices_i = [1, 2, 3, 4, 5, 6, 7, 8, 9]\n",
    "    len_f = len(choices_f)-1\n",
    "    len_i = len(choices_i)-1\n",
    "\n",
    "    q = ''\n",
    "    for j in range(num_dig-1):\n",
    "        q += str(choices_i[random.randint(0, len_i)])\n",
    "    q += str(choices_f[random.randint(0, len_f)])\n",
    "    \n",
    "    return q\n",
    "\n",
    "def create_problem(min_dig, max_dig, num_ops, num_min=0, num_max=0):\n",
    "    ops = []\n",
    "    for i in range(num_min):\n",
    "        ops.append(generate_number(min_dig))\n",
    "\n",
    "    for i in range(num_max):\n",
    "        ops.append(generate_number(max_dig))\n",
    "\n",
    "    if (num_max + num_min - 1) > num_ops:\n",
    "        num_ops = num_max + num_min - 1\n",
    "        print('Warning: num_ops smaller than num_max + num_min - 1; using sum - 1 as num_ops')\n",
    "\n",
    "    # Populate remaining operators\n",
    "    for i in range(num_ops - (num_max + num_min - 1)):\n",
    "        ops.append(generate_number(random.randint(min_dig, max_dig)))\n",
    "\n",
    "    # Generate label str and compute answer\n",
    "    problem = ''\n",
    "    answer = 0\n",
    "    for op in ops:\n",
    "        problem += op + '+'\n",
    "        answer += int(op)\n",
    "    problem = problem[:-1]\n",
    "    \n",
    "    return problem, answer\n",
    "\n",
    "def generate_block(block_size, num_easy, e, h):\n",
    "    questions = []\n",
    "    for j in range(num_easy):\n",
    "        questions.append(create_problem(e[0], e[1], e[2], e[3], e[4]))\n",
    "    for j in range(block_size - 1 - num_easy):\n",
    "        questions.append(create_problem(h[0], h[1], h[2], h[3], h[4]))\n",
    "    # Final question always easy\n",
    "    random.shuffle(questions)\n",
    "    questions.append(create_problem(e[0], e[1], e[2], e[3], e[4]))\n",
    "    \n",
    "    return questions"
   ]
  },
  {
   "cell_type": "code",
   "execution_count": 11,
   "id": "affected-institute",
   "metadata": {},
   "outputs": [
    {
     "data": {
      "text/plain": [
       "[('9+7+7+39', 62),\n",
       " ('6+4+7+17', 34),\n",
       " ('7+6', 13),\n",
       " ('8+9', 17),\n",
       " ('4+4+3+78', 89),\n",
       " ('9+6+4+87', 106),\n",
       " ('8+8', 16),\n",
       " ('8+9', 17),\n",
       " ('7+7+6+34', 54),\n",
       " ('3+8', 11),\n",
       " ('4+4', 8)]"
      ]
     },
     "execution_count": 11,
     "metadata": {},
     "output_type": "execute_result"
    }
   ],
   "source": [
    "# Create block of questions\n",
    "BLOCK_SIZE = 11 # must be odd\n",
    "num_easy = 5\n",
    "e = [1, 1, 1, 1, 1] # easy params\n",
    "h = [1, 2, 3, 3, 1] # hard params\n",
    "\n",
    "generate_block(BLOCK_SIZE, num_easy, e, h)"
   ]
  }
 ],
 "metadata": {
  "kernelspec": {
   "display_name": "Python 3",
   "language": "python",
   "name": "python3"
  },
  "language_info": {
   "codemirror_mode": {
    "name": "ipython",
    "version": 3
   },
   "file_extension": ".py",
   "mimetype": "text/x-python",
   "name": "python",
   "nbconvert_exporter": "python",
   "pygments_lexer": "ipython3",
   "version": "3.9.1"
  }
 },
 "nbformat": 4,
 "nbformat_minor": 5
}
