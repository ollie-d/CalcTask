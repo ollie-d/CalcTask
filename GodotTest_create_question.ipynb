{
 "cells": [
  {
   "cell_type": "code",
   "execution_count": 1,
   "id": "interior-crack",
   "metadata": {},
   "outputs": [],
   "source": [
    "import random"
   ]
  },
  {
   "cell_type": "code",
   "execution_count": 2,
   "id": "invisible-poison",
   "metadata": {},
   "outputs": [],
   "source": [
    "def generate_number(num_dig):\n",
    "    # Restrict final digit from being 0, 1, 2 or 5\n",
    "    choices_f = [3, 4, 6, 7, 8, 9]\n",
    "    choices_i = [1, 2, 3, 4, 5, 6, 7, 8, 9]\n",
    "    len_f = len(choices_f)-1\n",
    "    len_i = len(choices_i)-1\n",
    "\n",
    "    q = ''\n",
    "    for j in range(num_dig-1):\n",
    "        q += str(choices_i[random.randint(0, len_i)])\n",
    "    q += str(choices_f[random.randint(0, len_f)])\n",
    "    \n",
    "    return q\n",
    "\n",
    "def create_problem(min_dig, max_dig, num_ops, num_min=0, num_max=0):\n",
    "    ops = []\n",
    "    for i in range(num_min):\n",
    "        ops.append(generate_number(min_dig))\n",
    "\n",
    "    for i in range(num_max):\n",
    "        ops.append(generate_number(max_dig))\n",
    "\n",
    "    if (num_max + num_min - 1) > num_ops:\n",
    "        num_ops = num_max + num_min - 1\n",
    "        print('Warning: num_ops smaller than num_max + num_min - 1; using sum - 1 as num_ops')\n",
    "\n",
    "    # Populate remaining operators\n",
    "    for i in range(num_ops - (num_max + num_min - 1)):\n",
    "        ops.append(generate_number(random.randint(min_dig, max_dig)))\n",
    "\n",
    "    # Generate label str and compute answer\n",
    "    problem = ''\n",
    "    answer = 0\n",
    "    for op in ops:\n",
    "        problem += op + '+'\n",
    "        answer += int(op)\n",
    "    problem = problem[:-1]\n",
    "    \n",
    "    return problem, answer"
   ]
  },
  {
   "cell_type": "code",
   "execution_count": 18,
   "id": "descending-cancer",
   "metadata": {},
   "outputs": [
    {
     "name": "stdout",
     "output_type": "stream",
     "text": [
      "4+9+8+26\n",
      "47\n"
     ]
    }
   ],
   "source": [
    "p, a = create_problem(1, 2, 3, 3, 1)\n",
    "print(p)\n",
    "print(a)"
   ]
  }
 ],
 "metadata": {
  "kernelspec": {
   "display_name": "Python 3",
   "language": "python",
   "name": "python3"
  },
  "language_info": {
   "codemirror_mode": {
    "name": "ipython",
    "version": 3
   },
   "file_extension": ".py",
   "mimetype": "text/x-python",
   "name": "python",
   "nbconvert_exporter": "python",
   "pygments_lexer": "ipython3",
   "version": "3.9.1"
  }
 },
 "nbformat": 4,
 "nbformat_minor": 5
}
